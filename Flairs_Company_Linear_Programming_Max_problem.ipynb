{
  "nbformat": 4,
  "nbformat_minor": 0,
  "metadata": {
    "colab": {
      "provenance": [],
      "authorship_tag": "ABX9TyOc+TdBz/3jMlT+BPKzHQBN",
      "include_colab_link": true
    },
    "kernelspec": {
      "name": "python3",
      "display_name": "Python 3"
    },
    "language_info": {
      "name": "python"
    }
  },
  "cells": [
    {
      "cell_type": "markdown",
      "metadata": {
        "id": "view-in-github",
        "colab_type": "text"
      },
      "source": [
        "<a href=\"https://colab.research.google.com/github/Kgitahi/karengitahi.github.io/blob/main/Flairs_Company_Linear_Programming_Max_problem.ipynb\" target=\"_parent\"><img src=\"https://colab.research.google.com/assets/colab-badge.svg\" alt=\"Open In Colab\"/></a>"
      ]
    },
    {
      "cell_type": "markdown",
      "source": [
        "##Installing necessary packages"
      ],
      "metadata": {
        "id": "rNoWLscvK4sa"
      }
    },
    {
      "cell_type": "code",
      "execution_count": 27,
      "metadata": {
        "id": "G6qmUKBtJ7NG"
      },
      "outputs": [],
      "source": [
        "# before you do anything...\n",
        "# mount your drive!\n",
        "# click folder on the left...\n",
        "%matplotlib inline\n",
        "from pylab import *\n",
        "\n",
        "import shutil\n",
        "import sys\n",
        "import os.path\n",
        "\n",
        "if not shutil.which(\"pyomo\"):\n",
        "    !pip install -q pyomo\n",
        "    assert(shutil.which(\"pyomo\"))\n",
        "\n",
        "if not (shutil.which(\"glpsol\") or os.path.isfile(\"glpsol\")):\n",
        "    if \"google.colab\" in sys.modules:\n",
        "        !apt-get install -y -qq glpk-utils\n",
        "    else:\n",
        "        try:\n",
        "            !conda install -c conda-forge ipopt\n",
        "        except:\n",
        "            pass\n",
        "\n",
        "assert(shutil.which(\"glpsol\") or os.path.isfile(\"glpsol\"))\n",
        "\n",
        "from pyomo.environ import *\n",
        "SOLVER = 'glpk'\n",
        "EXECUTABLE = '/usr/bin/glpsol'"
      ]
    },
    {
      "cell_type": "markdown",
      "source": [
        "##Creating Optimization Model"
      ],
      "metadata": {
        "id": "oatIthUtLhwV"
      }
    },
    {
      "cell_type": "markdown",
      "source": [
        "1. Decision Variables:\n",
        "    - Let **T** be the number of tables to produce.\n",
        "    - Let **C** be the number of chairs to produce.\n",
        "\n",
        "2. Objective Function:\n",
        "**Maximize** the total profit, which is **5T+7C**.\n",
        "\n",
        "3. Constraints:\n",
        "- *Carpentry hours constraint:*\n",
        "    - 3T+4C ≤ 2400 hours.\n",
        "- *Painting hours constraint:*\n",
        "    - 2T+C ≤ 1000 hours.\n",
        "- *Chairs production constraint:*\n",
        "    - C ≤ 450.\n",
        "- *Tables production constraint:*\n",
        "    - T ≥ 100.\n",
        "- *Non-negativity constraints:*\n",
        "    - T,C ≥ 0."
      ],
      "metadata": {
        "id": "aqSRgPEbLpdc"
      }
    },
    {
      "cell_type": "markdown",
      "source": [
        "##declaring the model"
      ],
      "metadata": {
        "id": "-Sq1oWU8OcMj"
      }
    },
    {
      "cell_type": "code",
      "source": [
        "model = ConcreteModel() #creating the model"
      ],
      "metadata": {
        "id": "s3y98gysLoP_"
      },
      "execution_count": 28,
      "outputs": []
    },
    {
      "cell_type": "markdown",
      "source": [
        "##Defining Decision variables"
      ],
      "metadata": {
        "id": "U6NScr6hOekE"
      }
    },
    {
      "cell_type": "code",
      "source": [
        "# model.T for tables\n",
        "model.T = pyo.Var(domain=pyo.NonNegativeReals, bounds=(0, None))\n",
        "# Defined model.T which is the first decision variable for tables\n",
        "# Domain is a real number, and it has to be non-negative\n",
        "# Lower limit of T is 0 (non-negative)\n",
        "# Upper limit of T is infinity, we can produce as much as possible\n",
        "\n",
        "# model.C for chairs\n",
        "model.C = pyo.Var(domain=pyo.NonNegativeReals, bounds=(0, None))\n",
        "# Defined model.C which is the second decision variable for chairs\n",
        "# Domain is a real number, and it has to be non-negative\n",
        "# Lower limit of C is 0 (non-negative)\n",
        "# Upper limit of C is infinity, we can produce as much as possible"
      ],
      "metadata": {
        "id": "qZQz-C4ERw2H"
      },
      "execution_count": 29,
      "outputs": []
    },
    {
      "cell_type": "markdown",
      "source": [
        "##Defining contraints"
      ],
      "metadata": {
        "id": "UqEYrocoR3Tj"
      }
    },
    {
      "cell_type": "markdown",
      "source": [
        "3. Constraints:\n",
        "    - 3T+4C ≤ 2400 hours.\n",
        "    - 2T+C ≤ 1000 hours.\n",
        "    - C ≤ 450.\n",
        "    - T ≥ 100.\n",
        "    - T,C ≥ 0."
      ],
      "metadata": {
        "id": "KtRJ4918SKUO"
      }
    },
    {
      "cell_type": "code",
      "source": [
        "# Constraints\n",
        "# Carpentry hours constraint\n",
        "model.carpentry = pyo.Constraint(expr=3 * model.T + 4 * model.C <= 2400)\n",
        "# Painting hours constraint\n",
        "model.painting = pyo.Constraint(expr=2 * model.T + model.C <= 1000)\n",
        "# Chairs production upper limit\n",
        "model.max_chairs = pyo.Constraint(expr=model.C <= 450)\n",
        "# Tables production lower limit\n",
        "model.min_tables = pyo.Constraint(expr=model.T >= 100)"
      ],
      "metadata": {
        "id": "Rc-YmMldR9Am"
      },
      "execution_count": 30,
      "outputs": []
    },
    {
      "cell_type": "markdown",
      "source": [
        "##Objective Function"
      ],
      "metadata": {
        "id": "29mHcPZOSr6W"
      }
    },
    {
      "cell_type": "markdown",
      "source": [
        "**5T+7C** Maximization"
      ],
      "metadata": {
        "id": "EmEHJIgZS3Jd"
      }
    },
    {
      "cell_type": "code",
      "source": [
        "model.cost = Objective(expr = 5*model.T + 7*model.C, sense = maximize)"
      ],
      "metadata": {
        "id": "u2M9jQ-NS5dP"
      },
      "execution_count": 31,
      "outputs": []
    },
    {
      "cell_type": "markdown",
      "source": [
        "##Solver"
      ],
      "metadata": {
        "id": "nC-ize8WT3xF"
      }
    },
    {
      "cell_type": "code",
      "source": [
        "# Solve the model\n",
        "SolverFactory(SOLVER,executable=EXECUTABLE).solve(model).write()\n",
        "\n",
        "# Display results\n",
        "print(\"Maximum Profit = \", model.cost())\n",
        "print(\"Variables:\")\n",
        "print(\"\\tTables = \", model.T(), \" units\")\n",
        "print(\"\\tChairs = \", model.C(), \" units\")\n",
        "print(\"Constraints (LHS values):\")\n",
        "print(\"\\tCarpentry hours used = \", model.carpentry(), \" hours\")\n",
        "print(\"\\tPainting hours used = \", model.painting(), \" hours\")\n",
        "print(\"\\tMaximum number of chairs = \", model.max_chairs(), \" chairs\")\n",
        "print(\"\\tMinimum number of tables = \", model.min_tables(), \" tables\")"
      ],
      "metadata": {
        "colab": {
          "base_uri": "https://localhost:8080/"
        },
        "id": "ix5GHGClT5KU",
        "outputId": "08f68ac9-d6db-433e-92a4-49c17b96c68e"
      },
      "execution_count": 32,
      "outputs": [
        {
          "output_type": "stream",
          "name": "stdout",
          "text": [
            "# ==========================================================\n",
            "# = Solver Results                                         =\n",
            "# ==========================================================\n",
            "# ----------------------------------------------------------\n",
            "#   Problem Information\n",
            "# ----------------------------------------------------------\n",
            "Problem: \n",
            "- Name: unknown\n",
            "  Lower bound: 4150.0\n",
            "  Upper bound: 4150.0\n",
            "  Number of objectives: 1\n",
            "  Number of constraints: 4\n",
            "  Number of variables: 2\n",
            "  Number of nonzeros: 6\n",
            "  Sense: maximize\n",
            "# ----------------------------------------------------------\n",
            "#   Solver Information\n",
            "# ----------------------------------------------------------\n",
            "Solver: \n",
            "- Status: ok\n",
            "  Termination condition: optimal\n",
            "  Statistics: \n",
            "    Branch and bound: \n",
            "      Number of bounded subproblems: 0\n",
            "      Number of created subproblems: 0\n",
            "  Error rc: 0\n",
            "  Time: 0.007153987884521484\n",
            "# ----------------------------------------------------------\n",
            "#   Solution Information\n",
            "# ----------------------------------------------------------\n",
            "Solution: \n",
            "- number of solutions: 0\n",
            "  number of solutions displayed: 0\n",
            "Maximum Profit =  4150.0\n",
            "Variables:\n",
            "\tTables =  200.0  units\n",
            "\tChairs =  450.0  units\n",
            "Constraints (LHS values):\n",
            "\tCarpentry hours used =  2400.0  hours\n",
            "\tPainting hours used =  850.0  hours\n",
            "\tMaximum number of chairs =  450.0  chairs\n",
            "\tMinimum number of tables =  200.0  tables\n"
          ]
        }
      ]
    }
  ]
}