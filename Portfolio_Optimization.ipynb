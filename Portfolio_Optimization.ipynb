{
  "nbformat": 4,
  "nbformat_minor": 0,
  "metadata": {
    "colab": {
      "provenance": [],
      "authorship_tag": "ABX9TyOB3wJL2DVJ3olUGTrrd0HX",
      "include_colab_link": true
    },
    "kernelspec": {
      "name": "python3",
      "display_name": "Python 3"
    },
    "language_info": {
      "name": "python"
    }
  },
  "cells": [
    {
      "cell_type": "markdown",
      "metadata": {
        "id": "view-in-github",
        "colab_type": "text"
      },
      "source": [
        "<a href=\"https://colab.research.google.com/github/Kgitahi/karengitahi.github.io/blob/main/Portfolio_Optimization.ipynb\" target=\"_parent\"><img src=\"https://colab.research.google.com/assets/colab-badge.svg\" alt=\"Open In Colab\"/></a>"
      ]
    },
    {
      "cell_type": "markdown",
      "source": [
        "##Define Tickers and Time Range"
      ],
      "metadata": {
        "id": "LzdU4B2ESce_"
      }
    },
    {
      "cell_type": "code",
      "execution_count": 3,
      "metadata": {
        "id": "MrNoveKPSOIo"
      },
      "outputs": [],
      "source": [
        "tickers = ['SPY','BND','GLD','QQQ','VTI']"
      ]
    },
    {
      "cell_type": "code",
      "source": [
        "from datetime import datetime, timedelta\n",
        "end_date = datetime.today()"
      ],
      "metadata": {
        "id": "hh2HBw54Snfr"
      },
      "execution_count": 6,
      "outputs": []
    },
    {
      "cell_type": "code",
      "source": [
        "start_date = end_date - timedelta(days = 5*365)\n",
        "print(start_date)"
      ],
      "metadata": {
        "colab": {
          "base_uri": "https://localhost:8080/"
        },
        "id": "hYQOM1mfSuHi",
        "outputId": "ebda0834-9336-4bd9-85eb-e9bb909169fd"
      },
      "execution_count": 11,
      "outputs": [
        {
          "output_type": "stream",
          "name": "stdout",
          "text": [
            "2019-04-10 19:59:49.798555\n"
          ]
        }
      ]
    },
    {
      "cell_type": "markdown",
      "source": [
        "##Download Adjusted Close Prices"
      ],
      "metadata": {
        "id": "nXl0UZfESt4I"
      }
    },
    {
      "cell_type": "code",
      "source": [
        "import pandas as pd\n",
        "import yfinance as yf\n",
        "\n",
        "adj_close_df = pd.DataFrame() #Creating an empty dataframe to store the adjusted closing price\n",
        "for ticker in tickers: #Download the closing price for each ticker\n",
        "    data = yf.download(ticker, start = start_date,end = end_date)\n",
        "    adj_close_df[ticker] = data['Adj Close']"
      ],
      "metadata": {
        "colab": {
          "base_uri": "https://localhost:8080/"
        },
        "id": "ekI_cLVmS_eV",
        "outputId": "35b39c2f-2cbf-4cf5-e3a8-7cc53ec8cf49"
      },
      "execution_count": 15,
      "outputs": [
        {
          "output_type": "stream",
          "name": "stderr",
          "text": [
            "[*********************100%%**********************]  1 of 1 completed\n",
            "[*********************100%%**********************]  1 of 1 completed\n",
            "[*********************100%%**********************]  1 of 1 completed\n",
            "[*********************100%%**********************]  1 of 1 completed\n",
            "[*********************100%%**********************]  1 of 1 completed\n"
          ]
        }
      ]
    },
    {
      "cell_type": "code",
      "source": [
        "#check the data\n",
        "print(adj_close_df)"
      ],
      "metadata": {
        "colab": {
          "base_uri": "https://localhost:8080/"
        },
        "id": "8cA2ZSRJU7Q8",
        "outputId": "0ff81130-9272-4a06-b87d-cbc8ddc91192"
      },
      "execution_count": 18,
      "outputs": [
        {
          "output_type": "stream",
          "name": "stdout",
          "text": [
            "                   SPY        BND         GLD         QQQ         VTI\n",
            "Date                                                                 \n",
            "2019-04-10  266.022095  71.006577  123.529999  179.553192  136.361847\n",
            "2019-04-11  265.948242  70.883667  121.949997  179.127243  136.352615\n",
            "2019-04-12  267.747589  70.751976  121.830002  179.901703  137.266602\n",
            "2019-04-15  267.572235  70.769562  121.599998  179.930817  137.155853\n",
            "2019-04-16  267.747589  70.646622  120.510002  180.550369  137.192780\n",
            "...                ...        ...         ...         ...         ...\n",
            "2024-04-02  518.840027  71.839996  210.889999  441.109985  257.299988\n",
            "2024-04-03  519.409973  71.889999  212.740005  442.100006  257.700012\n",
            "2024-04-04  513.070007  72.040001  211.520004  435.339996  254.610001\n",
            "2024-04-05  518.429993  71.680000  215.139999  440.470001  257.179993\n",
            "2024-04-08  518.669983  71.620003  216.500000  440.600006  257.459991\n",
            "\n",
            "[1257 rows x 5 columns]\n"
          ]
        }
      ]
    },
    {
      "cell_type": "markdown",
      "source": [
        "##Calculate Lognormal Returns"
      ],
      "metadata": {
        "id": "5BuV_gPtTRuq"
      }
    },
    {
      "cell_type": "code",
      "source": [
        "import numpy as np\n",
        "\n",
        "#calculate the lognormal returns - has a more symetric distribution and make sure that we don't return negative values\n",
        "log_returns_df = np.log(adj_close_df) / adj_close_df.shift(1)"
      ],
      "metadata": {
        "id": "Q0qomgb5TTui"
      },
      "execution_count": 20,
      "outputs": []
    },
    {
      "cell_type": "code",
      "source": [
        "#Drop missing values\n",
        "log_returns = log_returns_df.dropna()"
      ],
      "metadata": {
        "id": "YaPipDPYXQim"
      },
      "execution_count": 23,
      "outputs": []
    },
    {
      "cell_type": "code",
      "source": [
        "print(log_returns)"
      ],
      "metadata": {
        "colab": {
          "base_uri": "https://localhost:8080/"
        },
        "id": "95SM2ux5XaRC",
        "outputId": "592e1b30-0113-4144-9c88-c5a18792e5b9"
      },
      "execution_count": 24,
      "outputs": [
        {
          "output_type": "stream",
          "name": "stdout",
          "text": [
            "                 SPY       BND       GLD       QQQ       VTI\n",
            "Date                                                        \n",
            "2019-04-11  0.020988  0.060009  0.038886  0.028894  0.036046\n",
            "2019-04-12  0.021019  0.060087  0.039382  0.028987  0.036097\n",
            "2019-04-15  0.020876  0.060202  0.039405  0.028863  0.035851\n",
            "2019-04-16  0.020892  0.060163  0.039406  0.028878  0.035882\n",
            "2019-04-17  0.020869  0.060267  0.039746  0.028798  0.035845\n",
            "...              ...       ...       ...       ...       ...\n",
            "2024-04-02  0.011973  0.059433  0.025750  0.013685  0.021372\n",
            "2024-04-03  0.012051  0.059509  0.025416  0.013810  0.021577\n",
            "2024-04-04  0.012014  0.059497  0.025168  0.013744  0.021497\n",
            "2024-04-05  0.012183  0.059303  0.025394  0.013984  0.021797\n",
            "2024-04-08  0.012058  0.059589  0.024996  0.013822  0.021584\n",
            "\n",
            "[1256 rows x 5 columns]\n"
          ]
        }
      ]
    },
    {
      "cell_type": "markdown",
      "source": [
        "##Calculating the Covariance matrix\n",
        "- Helps to calculate std or risk in the most optimal way"
      ],
      "metadata": {
        "id": "7XRXVSnqXluE"
      }
    },
    {
      "cell_type": "code",
      "source": [
        "cov_matrix = log_returns.cov() * 252 #used annualized log returns above\n",
        "print(cov_matrix)"
      ],
      "metadata": {
        "colab": {
          "base_uri": "https://localhost:8080/"
        },
        "id": "Vi_PQEc1Xpa-",
        "outputId": "47adb98a-0d00-4d25-fe70-fabb14583270"
      },
      "execution_count": 26,
      "outputs": [
        {
          "output_type": "stream",
          "name": "stdout",
          "text": [
            "          SPY       BND       GLD       QQQ       VTI\n",
            "SPY  0.001835 -0.000358  0.001457  0.002938  0.003064\n",
            "BND -0.000358  0.001595  0.000052 -0.000111 -0.000456\n",
            "GLD  0.001457  0.000052  0.002040  0.002718  0.002389\n",
            "QQQ  0.002938 -0.000111  0.002718  0.005070  0.004922\n",
            "VTI  0.003064 -0.000456  0.002389  0.004922  0.005143\n"
          ]
        }
      ]
    },
    {
      "cell_type": "code",
      "source": [
        "import matplotlib.pyplot as plt\n",
        "import seaborn as sns\n",
        "\n",
        "# Plot covariance matrix as a heatmap\n",
        "plt.figure(figsize=(10, 8))\n",
        "sns.heatmap(cov_matrix, annot=True, cmap='coolwarm', fmt=\".4f\")\n",
        "plt.title('Covariance Matrix of Log Returns')\n",
        "plt.xlabel('Assets')\n",
        "plt.ylabel('Assets')\n",
        "plt.show()"
      ],
      "metadata": {
        "colab": {
          "base_uri": "https://localhost:8080/",
          "height": 718
        },
        "id": "RHM9PY_BYr8N",
        "outputId": "456325a0-81ca-4d9a-b443-2fb1e35eb31c"
      },
      "execution_count": 30,
      "outputs": [
        {
          "output_type": "display_data",
          "data": {
            "text/plain": [
              "<Figure size 1000x800 with 2 Axes>"
            ],
            "image/png": "[encoded data removed]"
          },
          "metadata": {}
        }
      ]
    },
    {
      "cell_type": "markdown",
      "source": [
        "#Analysis of the matrix\n",
        "- High variance indicates higher volatility in the asset's returns. For instance, SPY has a variance of 0.0018, which needs to be compared with other variances to understand its volatility relative to them.\n",
        "\n",
        "\n",
        "    1. High Covariance between QQQ and VTI (0.0051): This is the highest positive covariance in the matrix, suggesting that these two assets, often tech-heavy indices, move very similarly. This implies they might not provide good diversification benefits when paired together in a portfolio.\n",
        "\n",
        "    2. Variance of Each Asset: The diagonal elements tell us the individual asset volatilities. For example, VTI has the highest individual variance (0.0051), indicating it is the most volatile of the assets listed. Conversely, BND shows the lowest variance (0.0016), suggesting it is the least volatile, which is typical for bonds compared to stocks.\n",
        "\n",
        "    3. Negative Covariance between SPY and BND (-0.0004): This suggests that the S&P 500 index and the bond market represented by BND tend to move in opposite directions, albeit the relationship is very weak. This is important for diversification since combining these could potentially lower portfolio volatility.\n",
        "\n",
        "    4. Positive Covariance between GLD and other Assets: GLD (typically representing gold) has a positive but small covariance with other assets, like SPY (0.0015) and QQQ (0.0027), which means it somewhat moves in the same direction as these assets, but the strength of the movement together is not strong.\n",
        "\n",
        "    5. Overall Diversification: Looking at the color coding, we see that no assets have a strong negative covariance, indicating there aren't any pairs of assets that are strongly inversely related. However, there are assets with low covariance, such as GLD with BND (0.0001), suggesting some level of diversification potential.\n"
      ],
      "metadata": {
        "id": "jVEPO0w4ZPWh"
      }
    },
    {
      "cell_type": "markdown",
      "source": [
        "##Portfolio Perfomance Metrics"
      ],
      "metadata": {
        "id": "q8eBMo9wa59S"
      }
    },
    {
      "cell_type": "code",
      "source": [
        "#Calculating portfolio variance\n",
        "# - This is a measure of risk associated with portfolio assets\n",
        "# - It represents the combined volaitility of assets taking into account their individual volaitility in correlation with each other\n",
        "\n",
        "def standard_deviation(weights, cov_matrix):\n",
        "    variance = weights.T @ cov_matrix @ weights\n",
        "    return np.sqrt(variance)"
      ],
      "metadata": {
        "id": "43HZFovkaoem"
      },
      "execution_count": 31,
      "outputs": []
    },
    {
      "cell_type": "code",
      "source": [
        "#Calculating the expected return\n",
        "# - Expected returns are based on historical values ~ Key Assuption*\n",
        "\n",
        "def expected_return(weights, log_returns):\n",
        "    return np.sum(log_returns.mean()*weights)*252"
      ],
      "metadata": {
        "id": "Ee2hUOzjcZ0C"
      },
      "execution_count": 32,
      "outputs": []
    },
    {
      "cell_type": "code",
      "source": [
        "# Sharpe ratio\n",
        " # Portfolio return = ((the expected return - risk free rate)/std)\n",
        "\n",
        "def sharpe_ratio(weights, log_returns, cov_matrix, risk_free_rate):\n",
        "    return (expected_return(weights, log_returns) - risk_free_rate) / standard_deviation(weights, cov_matrix)"
      ],
      "metadata": {
        "id": "Gc6HzUe6c-B6"
      },
      "execution_count": 35,
      "outputs": []
    },
    {
      "cell_type": "code",
      "source": [
        "!pip install fredapi\n"
      ],
      "metadata": {
        "colab": {
          "base_uri": "https://localhost:8080/"
        },
        "id": "pGgIW5elgdmF",
        "outputId": "5e4a5b1c-0afc-4bda-e8ba-5c7a1f9a9f47"
      },
      "execution_count": 39,
      "outputs": [
        {
          "output_type": "stream",
          "name": "stdout",
          "text": [
            "Collecting fredapi\n",
            "  Downloading fredapi-0.5.1-py3-none-any.whl (11 kB)\n",
            "Requirement already satisfied: pandas in /usr/local/lib/python3.10/dist-packages (from fredapi) (2.0.3)\n",
            "Requirement already satisfied: python-dateutil>=2.8.2 in /usr/local/lib/python3.10/dist-packages (from pandas->fredapi) (2.8.2)\n",
            "Requirement already satisfied: pytz>=2020.1 in /usr/local/lib/python3.10/dist-packages (from pandas->fredapi) (2023.4)\n",
            "Requirement already satisfied: tzdata>=2022.1 in /usr/local/lib/python3.10/dist-packages (from pandas->fredapi) (2024.1)\n",
            "Requirement already satisfied: numpy>=1.21.0 in /usr/local/lib/python3.10/dist-packages (from pandas->fredapi) (1.25.2)\n",
            "Requirement already satisfied: six>=1.5 in /usr/local/lib/python3.10/dist-packages (from python-dateutil>=2.8.2->pandas->fredapi) (1.16.0)\n",
            "Installing collected packages: fredapi\n",
            "Successfully installed fredapi-0.5.1\n"
          ]
        }
      ]
    },
    {
      "cell_type": "code",
      "source": [
        "from fredapi import Fred\n",
        "\n",
        "# Replace 'your_api_key' with your actual FRED API key\n",
        "fred = Fred(api_key=('3105a420b0d710eda9fe5dfafacb603b'))\n",
        "ten_year_treasury_rate = fred.get_series_latest_release('GS10') / 100\n",
        "\n",
        "# Set the risk-free rate\n",
        "risk_free_rate = ten_year_treasury_rate.iloc[-1]\n",
        "print(risk_free_rate)\n"
      ],
      "metadata": {
        "colab": {
          "base_uri": "https://localhost:8080/"
        },
        "id": "QdKafE26f8_8",
        "outputId": "cc625ec5-0a33-4aa2-feef-241cbe4b6808"
      },
      "execution_count": 41,
      "outputs": [
        {
          "output_type": "stream",
          "name": "stdout",
          "text": [
            "0.0421\n"
          ]
        }
      ]
    }
  ]
}